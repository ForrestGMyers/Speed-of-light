{
 "cells": [
  {
   "cell_type": "markdown",
   "metadata": {},
   "source": [
    "The first determination of the speed of light came from Ole Roemer in 1676. Up until that point, most scientists considered light travel to be instantaneous. At the time the orbital period of Io, one of Jupiter's moons, was know to be 1.769 days. Roemer noticed that the period varied slightly depending on the Earth's location in its orbit relative to Jupiter. After recording variance in the orbit several times, Roemer was able to predict the delay in the orbit. This led to his claim that the speed of light was not infinite. In the mid 19th century a mechanical experiment for determining speed of light using a rotating and a fixed mirror was designed by Leon Foucault and was later improved by Albert Michelson. This resulted in the most precise mechanical measurement of the speed of light made with an error of +/-4km/sec.\n"
   ]
  },
  {
   "cell_type": "markdown",
   "metadata": {},
   "source": [
    "In modern times we are able to use lasers and detectors to make more precise measurements of the speed of light. Using an oscilloscope, a pulse laser, a mirror, and a photodetector, we can calculate the speed of light from the distance to the mirror and the time taken for the laser to travel to the mirror and back to the detector."
   ]
  },
  {
   "cell_type": "markdown",
   "metadata": {},
   "source": [
    "For the experiment, a function generator signal is measured with an oscilloscope and used to power a pulsed laser. This laser is reflected off of a mirror and into a photodetector. The signal from the photodetector is compared to the input signal on the oscilloscope to determine the time taken for the light to travel from the laser to the detector. This will be repeated at several different distances. "
   ]
  },
  {
   "cell_type": "markdown",
   "metadata": {},
   "source": [
    "When analyzing the data we will be plotting the distance the light traveled on the x-axis against the time taken for travel on the y-axis. The inverse of the slope of this line will be our measured value for the speed of light. We will have to account for the rise time of our equipment. The uncertainty of our fit will be calculated using the rules for uncertainty of least-squares fitting on page 186-188 of Taylor."
   ]
  }
 ],
 "metadata": {
  "kernelspec": {
   "display_name": "Python 3",
   "language": "python",
   "name": "python3"
  },
  "language_info": {
   "codemirror_mode": {
    "name": "ipython",
    "version": 3
   },
   "file_extension": ".py",
   "mimetype": "text/x-python",
   "name": "python",
   "nbconvert_exporter": "python",
   "pygments_lexer": "ipython3",
   "version": "3.7.4"
  }
 },
 "nbformat": 4,
 "nbformat_minor": 2
}
